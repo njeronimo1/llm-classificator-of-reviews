{
 "cells": [
  {
   "cell_type": "code",
   "execution_count": 2,
   "id": "d8b85ebf",
   "metadata": {},
   "outputs": [
    {
     "name": "stdout",
     "output_type": "stream",
     "text": [
      "\n",
      "\u001b[1m[\u001b[0m\u001b[34;49mnotice\u001b[0m\u001b[1;39;49m]\u001b[0m\u001b[39;49m A new release of pip is available: \u001b[0m\u001b[31;49m25.1.1\u001b[0m\u001b[39;49m -> \u001b[0m\u001b[32;49m25.2\u001b[0m\n",
      "\u001b[1m[\u001b[0m\u001b[34;49mnotice\u001b[0m\u001b[1;39;49m]\u001b[0m\u001b[39;49m To update, run: \u001b[0m\u001b[32;49m/usr/local/opt/python@3.11/bin/python3.11 -m pip install --upgrade pip\u001b[0m\n",
      "Note: you may need to restart the kernel to use updated packages.\n"
     ]
    }
   ],
   "source": [
    "%pip install --quiet openai pandas python-dotenv\n",
    "\n",
    "import os\n",
    "from dotenv import load_dotenv\n",
    "from openai import OpenAI\n",
    "import pandas as pd\n",
    "\n",
    "load_dotenv()  # Lê o .env na raiz do projeto\n",
    "client = OpenAI(api_key=os.environ[\"OPENAI_API_KEY\"])"
   ]
  },
  {
   "cell_type": "code",
   "execution_count": 15,
   "id": "e53b726d",
   "metadata": {},
   "outputs": [
    {
     "name": "stdout",
     "output_type": "stream",
     "text": [
      "                                                    0\n",
      "0   359049593$Sfaofan RiyadS$'jamais bien ChatGPT....\n",
      "1   384954984$Habimana Therese$This app is very im...\n",
      "2   459459458$Haidatun jannat$Wonderful app. Just ...\n",
      "3   535399535$Rayyan R$anytime I try to get to wor...\n",
      "4   593053$Khanyi Cele$Acabo de instalar la aplica...\n",
      "5   948243843$Jayant Pudducherri$Gercetken harika,...\n",
      "6   738753054$saikat das$You guys are rocking, out...\n",
      "7   829253493$Mohamedi Mustapha$It's incredible. H...\n",
      "8   289247547$James Williams$This ai app has some ...\n",
      "9   934578304$Alexis$Cool, just wish there wasn't ...\n",
      "10  28924455$Mark Feldman$L'IA est géniale, mais p...\n",
      "11  834872323$Somshurva Saha$Database too old to u...\n",
      "12  3047245$Ahmad Raza$very good but it would be b...\n",
      "13  234802494$Andrew MacKay$Voice frequently disco...\n",
      "14  537857304$Kavya Kavyas$jeII jest za darmo co d...\n",
      "15  348539455$Vaishnavi Tandon$To use it a lot of ...\n",
      "16  74548903$Hdfc Gg$App is cool but developer sho...\n",
      "17  3589893$Yusuf YurtbeÁfendi$Does not work on my...\n",
      "18  8452036$Eyob Getachew$Aplicia e destul de bun,...\n",
      "19  49072884$Hrushi Padi$I am unable to convert th...\n",
      "20  74072473$Galilu dr $PlessisLo adoro, lo uso pe...\n",
      "21  84278942$jason yones$I like it but it always s...\n",
      "22  72042703$Ibrahim Ghanis$Middling experience. T...\n",
      "23  479578554$AMISHA BESR$nÅngot visar ett ööverfö...\n"
     ]
    },
    {
     "name": "stderr",
     "output_type": "stream",
     "text": [
      "/var/folders/q9/9p9xnyp15rdgy7p3g7stp4jw0000gp/T/ipykernel_29540/1987191303.py:1: ParserWarning: Falling back to the 'python' engine because the 'c' engine does not support regex separators (separators > 1 char and different from '\\s+' are interpreted as regex); you can avoid this warning by specifying engine='python'.\n",
      "  txt_arquivo = pd.read_csv('data/reviews_jetGPT.txt', sep=\"/n\", header=None)\n"
     ]
    }
   ],
   "source": [
    "txt_arquivo = pd.read_csv('data/reviews_jetGPT.txt', sep=\"/n\", header=None)\n",
    "print(txt_arquivo)"
   ]
  },
  {
   "cell_type": "code",
   "execution_count": 13,
   "id": "0d5c8b64",
   "metadata": {},
   "outputs": [],
   "source": [
    "# O objetivo é enviar essa lista para o modelo e tentar extrair, \n",
    "# em um formato JSON, um dicionário ou uma lista de dicionários. \n",
    "# Nessa estrutura, teremos os itens: o usuário, que será o nome do usuário presente no arquivo; \n",
    "# a resenha original; a tradução dessa resenha para o português; e uma avaliação da resenha, \n",
    "# categorizada como positiva, negativa ou neutra. Existem várias maneiras de realizar essa tarefa, \n",
    "# e deixaremos a escolha do método para você. Posteriormente, apresentaremos nossa solução no próximo vídeo.\n",
    "\n",
    "def return_json_classified(texto):\n",
    "    prompt = f\"\"\"A partir dos campos que estou te enviando, separe os valores através do simbolo '$', você terá 3 valores,\n",
    "    id do usuário, nome e comentário da avaliação dele sobre nosso app.\n",
    "\n",
    "    Quero que me retorne em formato JSON, estes campos:\n",
    "    - Usuário\n",
    "    - comentário original\n",
    "    - comentário traduzido para Português Brasileiro\n",
    "    - avaliação (Positiva, neutra ou negativa, de acordo com o comentário do usuário sobre nosso app)\n",
    "\n",
    "    Eu preciso que retorne SOMENTE o json\n",
    "    \n",
    "    campos: {texto}\"\"\"\n",
    "\n",
    "    resposta = client.responses.create(\n",
    "        model=\"gpt-4.1\",  # ou o modelo que você tiver acesso\n",
    "        input=prompt,\n",
    "        \n",
    "    )\n",
    "\n",
    "    return resposta.output_text.strip()"
   ]
  },
  {
   "cell_type": "code",
   "execution_count": 29,
   "id": "0ea9d9bb",
   "metadata": {},
   "outputs": [
    {
     "name": "stdout",
     "output_type": "stream",
     "text": [
      "                                                   0\n",
      "0  359049593$Sfaofan RiyadS$'jamais bien ChatGPT....\n"
     ]
    }
   ],
   "source": [
    "print(txt_arquivo.head(1))"
   ]
  },
  {
   "cell_type": "code",
   "execution_count": 31,
   "id": "c468830a",
   "metadata": {},
   "outputs": [
    {
     "name": "stdout",
     "output_type": "stream",
     "text": [
      "0\n",
      "['{\\n  \"Usuário\": \"\",\\n  \"comentário original\": \"\",\\n  \"comentário traduzido para Português Brasileiro\": \"\",\\n  \"avaliação\": \"\"\\n}']\n"
     ]
    }
   ],
   "source": [
    "\n",
    "list_for_results = []\n",
    "for opnions in txt_arquivo.head(1):\n",
    "    print(opnions)\n",
    "    list_for_results.append(return_json_classified(opnions))\n",
    "\n",
    "print(list_for_results)"
   ]
  }
 ],
 "metadata": {
  "kernelspec": {
   "display_name": "Python 3",
   "language": "python",
   "name": "python3"
  },
  "language_info": {
   "codemirror_mode": {
    "name": "ipython",
    "version": 3
   },
   "file_extension": ".py",
   "mimetype": "text/x-python",
   "name": "python",
   "nbconvert_exporter": "python",
   "pygments_lexer": "ipython3",
   "version": "3.11.13"
  }
 },
 "nbformat": 4,
 "nbformat_minor": 5
}
